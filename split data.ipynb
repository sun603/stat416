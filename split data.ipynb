{
 "cells": [
  {
   "cell_type": "markdown",
   "metadata": {},
   "source": [
    "# stat 416 project"
   ]
  },
  {
   "cell_type": "markdown",
   "metadata": {},
   "source": [
    "load package "
   ]
  },
  {
   "cell_type": "code",
   "execution_count": 12,
   "metadata": {},
   "outputs": [],
   "source": [
    "import random\n",
    "import re"
   ]
  },
  {
   "cell_type": "markdown",
   "metadata": {},
   "source": [
    "load file, just use spam.csv  split later"
   ]
  },
  {
   "cell_type": "code",
   "execution_count": 2,
   "metadata": {},
   "outputs": [],
   "source": [
    "filename = \"./spam.csv\""
   ]
  },
  {
   "cell_type": "code",
   "execution_count": 7,
   "metadata": {},
   "outputs": [
    {
     "name": "stdout",
     "output_type": "stream",
     "text": [
      "err in classify ['ham\"\"\"', ',,\\n']\n",
      "err in classify ['ham\"\"\"', \"Well there's still a bit left if you guys want to tonight,,\\n\"]\n"
     ]
    },
    {
     "data": {
      "text/plain": [
       "5573"
      ]
     },
     "execution_count": 7,
     "metadata": {},
     "output_type": "execute_result"
    }
   ],
   "source": [
    "cou = 0\n",
    "allstr = []\n",
    "tmpstr = None\n",
    "with open(filename,'r',encoding='cp1252') as file:\n",
    "    for line in file:\n",
    "        if(cou == 0):\n",
    "            cou+= 1\n",
    "            continue\n",
    "        tmpstr = line.split(',',1)\n",
    "        if len(tmpstr) < 2:\n",
    "            print(\"err in split\",line)\n",
    "            continue\n",
    "        elif tmpstr[0] != \"ham\" and tmpstr[0] != \"spam\":\n",
    "            if\n",
    "            print(\"err in classify\",tmpstr)\n",
    "            continue\n",
    "        cou += 1\n",
    "        allstr.append(str(line))\n",
    "cou"
   ]
  },
  {
   "cell_type": "code",
   "execution_count": 8,
   "metadata": {},
   "outputs": [],
   "source": [
    "random.shuffle(allstr)"
   ]
  },
  {
   "cell_type": "code",
   "execution_count": 9,
   "metadata": {},
   "outputs": [],
   "source": [
    "transize = int(len(allstr)* 0.8)\n",
    "testsize = len(allstr) - transize"
   ]
  },
  {
   "cell_type": "code",
   "execution_count": 10,
   "metadata": {},
   "outputs": [],
   "source": [
    "with open(\"train.csv\",'w') as file:\n",
    "    for i in allstr[:transize]:\n",
    "        file.write(i)\n",
    "with open(\"test.csv\",'w') as file:\n",
    "    for i in allstr[transize:]:\n",
    "        file.write(i)\n",
    "    "
   ]
  },
  {
   "cell_type": "code",
   "execution_count": 11,
   "metadata": {},
   "outputs": [
    {
     "name": "stdout",
     "output_type": "stream",
     "text": [
      "4457 1115\n"
     ]
    }
   ],
   "source": [
    "print(transize, testsize)"
   ]
  },
  {
   "cell_type": "code",
   "execution_count": null,
   "metadata": {},
   "outputs": [],
   "source": []
  }
 ],
 "metadata": {
  "kernelspec": {
   "display_name": "Python 3",
   "language": "python",
   "name": "python3"
  },
  "language_info": {
   "codemirror_mode": {
    "name": "ipython",
    "version": 3
   },
   "file_extension": ".py",
   "mimetype": "text/x-python",
   "name": "python",
   "nbconvert_exporter": "python",
   "pygments_lexer": "ipython3",
   "version": "3.7.3"
  }
 },
 "nbformat": 4,
 "nbformat_minor": 2
}
