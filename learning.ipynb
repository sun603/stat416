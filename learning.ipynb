{
 "cells": [
  {
   "cell_type": "code",
   "execution_count": 1,
   "metadata": {},
   "outputs": [],
   "source": [
    "def reading(filename):\n",
    "    dataset = []\n",
    "    tmpstr = None\n",
    "    with open(filename, 'r') as file:\n",
    "        for line in file:\n",
    "#             tmpstr = line\n",
    "            tmpstr = line.replace(\",,,\\n\",\"\",1)\n",
    "            tmpstr = tmpstr.split(',',1)\n",
    "            if len(tmpstr) < 2:\n",
    "                print(\"err in split\",line)\n",
    "                continue\n",
    "            elif tmpstr[0] == \"ham\" or tmpstr[0] == \"spam\":\n",
    "                dataset.append(tmpstr)\n",
    "            else:\n",
    "                print(\"err in classify\",line)\n",
    "    return dataset\n",
    "def training(dataset):\n",
    "    ham = {}\n",
    "    spam = {}\n",
    "    num_ham = 0\n",
    "    num_spam = 0\n",
    "    for data in dataset:\n",
    "        if data[0] == \"ham\":\n",
    "            for word in data[1].split(\" \"):\n",
    "                if word in ham:\n",
    "                    ham[word] += 1\n",
    "                else:\n",
    "                    ham[word] = 1\n",
    "        elif data[0] == \"spam\":\n",
    "            for word in data[1].split(\" \"):\n",
    "                if word in spam:\n",
    "                    spam[word] += 1\n",
    "                else:\n",
    "                    spam[word] = 1\n",
    "        else:\n",
    "            print(\"err in logic \",data)\n",
    "    allwords = set(ham.keys())\n",
    "    for word in spam.keys():\n",
    "        allwords.add(word)\n",
    "    model = {}\n",
    "    nspam = nham = 0\n",
    "    num_ham = sum(ham.values())\n",
    "    num_spam = sum(spam.values())\n",
    "    total_p_spam = num_spam/(num_ham+num_spam)\n",
    "    total_p_ham = 1 - total_p_spam\n",
    "    for word in allwords:\n",
    "        if word in spam:\n",
    "            xspam = spam[word]\n",
    "        else:\n",
    "            xspam = 0\n",
    "        if word in ham:\n",
    "            xham = ham[word]\n",
    "        else:\n",
    "            xham = 0\n",
    "        model[word] = (xspam/num_spam) * total_p_spam / ((xspam/num_spam) * total_p_spam + (xham/num_ham) * total_p_ham) \n",
    "    return (model,total_p_spam,total_p_ham)\n",
    "def perdict(modeld,string):\n",
    "    model,p_spam,p_ham = modeld\n",
    "    words = string.split(\" \")\n",
    "    pspam = p_spam\n",
    "    phman = p_ham\n",
    "    for word in words:\n",
    "        if word in model:\n",
    "            pspam *= model[word]\n",
    "            phman *= 1 - model[word]\n",
    "    if pspam > phman:\n",
    "        return \"spam\"\n",
    "    else:\n",
    "        return \"ham\"\n",
    "\n",
    "    "
   ]
  },
  {
   "cell_type": "code",
   "execution_count": 26,
   "metadata": {},
   "outputs": [
    {
     "ename": "TypeError",
     "evalue": "tuple indices must be integers or slices, not str",
     "output_type": "error",
     "traceback": [
      "\u001b[0;31m---------------------------------------------------------------------------\u001b[0m",
      "\u001b[0;31mTypeError\u001b[0m                                 Traceback (most recent call last)",
      "\u001b[0;32m<ipython-input-26-ee526d40c952>\u001b[0m in \u001b[0;36m<module>\u001b[0;34m\u001b[0m\n\u001b[1;32m      1\u001b[0m \u001b[0mtraindata\u001b[0m \u001b[0;34m=\u001b[0m \u001b[0mreading\u001b[0m\u001b[0;34m(\u001b[0m\u001b[0;34m'./train.csv'\u001b[0m\u001b[0;34m)\u001b[0m\u001b[0;34m\u001b[0m\u001b[0;34m\u001b[0m\u001b[0m\n\u001b[1;32m      2\u001b[0m \u001b[0mmodel\u001b[0m \u001b[0;34m=\u001b[0m \u001b[0mtraining\u001b[0m\u001b[0;34m(\u001b[0m\u001b[0mtraindata\u001b[0m\u001b[0;34m)\u001b[0m\u001b[0;34m\u001b[0m\u001b[0;34m\u001b[0m\u001b[0m\n\u001b[0;32m----> 3\u001b[0;31m \u001b[0mmodel\u001b[0m\u001b[0;34m[\u001b[0m\u001b[0;34m\"your\"\u001b[0m\u001b[0;34m]\u001b[0m\u001b[0;34m\u001b[0m\u001b[0;34m\u001b[0m\u001b[0m\n\u001b[0m",
      "\u001b[0;31mTypeError\u001b[0m: tuple indices must be integers or slices, not str"
     ]
    }
   ],
   "source": [
    "traindata = reading('./train.csv')\n",
    "model = training(traindata)"
   ]
  },
  {
   "cell_type": "code",
   "execution_count": 16,
   "metadata": {},
   "outputs": [
    {
     "name": "stdout",
     "output_type": "stream",
     "text": [
      "['spam', '\"FreeMsg Hey there darling it\\'s been 3 week\\'s now and no word back! I\\'d like some fun you up for it still? Tb ok! XxX std chgs to send, å£1.50 to rcv\"']\n",
      "['spam', '\"Hi babe its Chloe, how r u? I was smashed on saturday night, it was great! How was your weekend? U been missing me? SP visionsms.com Text stop to stop 150p/text\"']\n",
      "['spam', 'TBS/PERSOLVO. been chasing us since Sept forå£38 definitely not paying now thanks to your information. We will ignore them. Kath. Manchester.']\n",
      "['spam', '\"Hungry gay guys feeling hungry and up 4 it, now. Call 08718730555 just 10p/min. To stop texts call 08712460324 (10p/min)\"']\n",
      "['spam', '\"Got what it takes 2 take part in the WRC Rally in Oz? U can with Lucozade Energy! Text RALLY LE to 61200 (25p), see packs or lucozade.co.uk/wrc & itcould be u!\"']\n",
      "['spam', \"T-Mobile customer you may now claim your FREE CAMERA PHONE upgrade & a pay & go sim card for your loyalty. Call on 0845 021 3680.Offer ends 28thFeb.T&C's apply\"]\n",
      "['spam', '\"Goal! Arsenal 4 (Henry, 7 v Liverpool 2 Henry scores with a simple shot from 6 yards from a pass by Bergkamp to give Arsenal a 2 goal margin after 78 mins.\"']\n",
      "['spam', '\"Win the newest åÒHarry Potter and the Order of the Phoenix (Book 5) reply HARRY, answer 5 questions - chance to be the first among readers!\"']\n",
      "['ham', 'Can u get pic msgs to your phone?']\n",
      "['spam', '\"Got what it takes 2 take part in the WRC Rally in Oz? U can with Lucozade Energy! Text RALLY LE to 61200 (25p), see packs or lucozade.co.uk/wrc & itcould be u!\"']\n",
      "['spam', 'Email AlertFrom: Jeri StewartSize: 2KBSubject: Low-cost prescripiton drvgsTo listen to email call 123']\n",
      "['spam', '\"TheMob>Hit the link to get a premium Pink Panther game, the new no. 1 from Sugababes, a crazy Zebra animation or a badass Hoody wallpaper-all 4 FREE!\"']\n",
      "['spam', '\"We know someone who you know that fancies you. Call 09058097218 to find out who. POBox 6, LS15HB 150p\"']\n",
      "['spam', '\"FREE RING TONE just text \\\\POLYS\\\\\"\" to 87131. Then every week get a new tone. 0870737910216yrs only å£1.50/wk.\"\"\"']\n",
      "['spam', '\"YOUR CHANCE TO BE ON A REALITY FANTASY SHOW call now = 08707509020 Just 20p per min NTT Ltd, PO Box 1327 Croydon CR9 5WB 0870 is a national = rate call.\"']\n",
      "['spam', '\"TheMob> Check out our newest selection of content, Games, Tones, Gossip, babes and sport, Keep your mobile fit and funky text WAP to 82468\"']\n",
      "['spam', '\"I want some cock! My hubby\\'s away, I need a real man 2 satisfy me. Txt WIFE to 89938 for no strings action. (Txt STOP 2 end, txt rec å£1.50ea. OTBox 731 LA1 7WS. )\"']\n",
      "['ham', 'Nokia phone is lovly..']\n",
      "['spam', \"I'd like to tell you my deepest darkest fantasies. Call me 09094646631 just 60p/min. To stop texts call 08712460324 (nat rate)\"]\n",
      "['spam', '\"Hi there, 2nights ur lucky night! Uve been invited 2 XCHAT, the Uks wildest chat! Txt CHAT to 86688 now! 150p/MsgrcvdHG/Suite342/2Lands/Row/W1J6HL LDN 18yrs\"']\n",
      "['spam', 'Sexy Singles are waiting for you! Text your AGE followed by your GENDER as wither M or F E.G.23F. For gay men text your AGE followed by a G. e.g.23G.']\n",
      "['spam', 'Hello. We need some posh birds and chaps to user trial prods for champneys. Can i put you down? I need your address and dob asap. Ta r']\n",
      "['spam', 'Warner Village 83118 C Colin Farrell in SWAT this wkend @Warner Village & get 1 free med. Popcorn!Just show msg+ticket@kiosk.Valid 4-7/12. C t&c @kiosk. Reply SONY 4 mre film offers']\n",
      "['spam', '\"FREE RINGTONE text FIRST to 87131 for a poly or text GET to 87131 for a true tone! Help? 0845 2814032 16 after 1st free, tones are 3xå£150pw to eå£nd txt stop\"']\n",
      "['spam', '\"Free entry to the gr8prizes wkly comp 4 a chance to win the latest Nokia 8800, PSP or å£250 cash every wk.TXT GREAT to 80878 http//www.gr8prizes.com 08715705022\"']\n",
      "['spam', 'LORD OF THE RINGS:RETURN OF THE KING in store NOW!REPLY LOTR by 2 June 4 Chance 2 WIN LOTR soundtrack CDs StdTxtRate. Reply STOP to end txts']\n",
      "['spam', 'A link to your picture has been sent. You can also use http://alto18.co.uk/wave/wave.asp?o=44345']\n",
      "['spam', \"Congratulations YOU'VE Won. You're a Winner in our August å£1000 Prize Draw. Call 09066660100 NOW. Prize Code 2309.\"]\n",
      "['spam', 'FREE UNLIMITED HARDCORE PORN direct 2 your mobile Txt PORN to 69200 & get FREE access for 24 hrs then chrgd@50p per day txt Stop 2exit. This msg is free']\n",
      "['spam', 'ringtoneking 84484']\n",
      "['spam', '\"Your account has been credited with 500 FREE Text Messages. To activate, just txt the word: CREDIT to No: 80488 T&Cs www.80488.biz\"']\n",
      "['spam', '\"Did you hear about the new \\\\Divorce Barbie\\\\\"\"? It comes with all of Ken\\'s stuff!\"\"\"']\n",
      "['spam', 'Babe: U want me dont u baby! Im nasty and have a thing 4 filthyguys. Fancy a rude time with a sexy bitch. How about we go slo n hard! Txt XXX SLO(4msgs)']\n",
      "['spam', 'Dear Voucher Holder 2 claim your 1st class airport lounge passes when using Your holiday voucher call 08704439680. When booking quote 1st class x 2']\n",
      "['spam', '\"England v Macedonia - dont miss the goals/team news. Txt ur national team to 87077 eg ENGLAND to 87077 Try:WALES, SCOTLAND 4txt/Ì¼1.20 POBOXox36504W45WQ 16+\"']\n",
      "['spam', 'U are subscribed to the best Mobile Content Service in the UK for å£3 per ten days until you send STOP to 83435. Helpline 08706091795.']\n",
      "['spam', 'Hey I am really horny want to chat or see me naked text hot to 69698 text charged at 150pm to unsubscribe text stop 69698']\n",
      "['spam', 'Get a brand new mobile phone by being an agent of The Mob! Plus loads more goodies! For more info just text MAT to 87021.']\n",
      "['spam', \"RCT' THNQ Adrian for U text. Rgds Vatian\"]\n",
      "['spam', 'Are you unique enough? Find out from 30th August. www.areyouunique.co.uk']\n",
      "['spam', 'ROMCAPspam Everyone around should be responding well to your presence since you are so warm and outgoing. You are bringing in a real breath of sunshine.']\n",
      "['spam', 'dating:i have had two of these. Only started after i sent a text to talk sport radio last week. Any connection do you think or coincidence?']\n",
      "['spam', '\"Win the newest ‰ÛÏHarry Potter and the Order of the Phoenix (Book 5) reply HARRY, answer 5 questions - chance to be the first among readers!\"']\n",
      "['spam', 'Hi if ur lookin 4 saucy daytime fun wiv busty married woman Am free all next week Chat now 2 sort time 09099726429 JANINExx Callså£1/minMobsmoreLKPOBOX177HP51FL']\n",
      "['spam', 'FREE MSG:We billed your mobile number by mistake from shortcode 83332.Please call 08081263000 to have charges refunded.This call will be free from a BT landline']\n",
      "['spam', '\"Bears Pic Nick, and Tom, Pete and ... Dick. In fact, all types try gay chat with photo upload call 08718730666 (10p/min). 2 stop texts call 08712460324\"']\n",
      "['spam', 'This msg is for your mobile content order It has been resent as previous attempt failed due to network error Queries to customersqueries@netvision.uk.com']\n",
      "['spam', 'You have won a guaranteed 32000 award or maybe even å£1000 cash to claim ur award call free on 0800 ..... (18+). Its a legitimat efreefone number wat do u think???']\n",
      "0.95695067264574  correct  1067 total  1115  \n",
      "corham  974  corspam  93  incham  2  incspam  46\n"
     ]
    }
   ],
   "source": [
    "testdata = reading('./test.csv')\n",
    "result = None\n",
    "correct = 0\n",
    "total = 0\n",
    "corspam = 0\n",
    "corham = 0\n",
    "incspam = 0\n",
    "incham = 0\n",
    "for data in testdata:\n",
    "    result = perdict(model,data[1])\n",
    "    if result == data[0]:\n",
    "        correct += 1\n",
    "        if (data[0] == \"ham\"):\n",
    "            corham += 1\n",
    "        else:\n",
    "            corspam += 1\n",
    "    else:\n",
    "        print(data)\n",
    "        if(data[0] == \"ham\"):\n",
    "            incham += 1\n",
    "        else:\n",
    "            incspam += 1\n",
    "    total += 1\n",
    "print(correct/total,\" correct \", correct,\"total \", total,\" \\ncorham \",corham,\" corspam \",corspam,\" incham \",incham,\" incspam \",incspam)"
   ]
  },
  {
   "cell_type": "code",
   "execution_count": 10,
   "metadata": {},
   "outputs": [
    {
     "data": {
      "text/plain": [
       "(['ham', 'Ding me on ya break fassyole! Blacko from londn'],\n",
       " ['spam',\n",
       "  'Call Germany for only 1 pence per minute! Call from a fixed line via access number 0844 861 85 85. No prepayment. Direct access! www.telediscount.co.uk'],\n",
       " ['ham',\n",
       "  '\"Dont search love, let love find U. Thats why its called falling in love, bcoz U dont force yourself, U just fall and U know there is smeone to hold U... BSLVYL\"'],\n",
       " ['spam',\n",
       "  '\"SMS SERVICES. for your inclusive text credits, pls goto www.comuk.net login= 3qxj9 unsubscribe with STOP, no extra charge. help 08702840625.COMUK. 220-CM2 9AE\"'])"
      ]
     },
     "execution_count": 10,
     "metadata": {},
     "output_type": "execute_result"
    }
   ],
   "source": [
    "testdata[2],traindata[3],testdata[3],testdata[6]"
   ]
  },
  {
   "cell_type": "code",
   "execution_count": 18,
   "metadata": {},
   "outputs": [
    {
     "name": "stdout",
     "output_type": "stream",
     "text": [
      "['ham', 'Nobody can decide where to eat and dad wants Chinese'] ham\n"
     ]
    }
   ],
   "source": [
    "print(testdata[4],perdict(model,testdata[4][1]))"
   ]
  },
  {
   "cell_type": "code",
   "execution_count": 20,
   "metadata": {},
   "outputs": [
    {
     "name": "stdout",
     "output_type": "stream",
     "text": [
      "['spam', '\"SMS SERVICES. for your inclusive text credits, pls goto www.comuk.net login= 3qxj9 unsubscribe with STOP, no extra charge. help 08702840625.COMUK. 220-CM2 9AE\"'] spam\n"
     ]
    }
   ],
   "source": [
    "print(testdata[6],perdict(model,testdata[6][1]))"
   ]
  },
  {
   "cell_type": "code",
   "execution_count": 38,
   "metadata": {},
   "outputs": [
    {
     "data": {
      "text/plain": [
       "1.0"
      ]
     },
     "execution_count": 38,
     "metadata": {},
     "output_type": "execute_result"
    }
   ],
   "source": [
    "model[0][\"unsubscribe\"]"
   ]
  },
  {
   "cell_type": "code",
   "execution_count": null,
   "metadata": {},
   "outputs": [],
   "source": []
  }
 ],
 "metadata": {
  "kernelspec": {
   "display_name": "Python 3",
   "language": "python",
   "name": "python3"
  },
  "language_info": {
   "codemirror_mode": {
    "name": "ipython",
    "version": 3
   },
   "file_extension": ".py",
   "mimetype": "text/x-python",
   "name": "python",
   "nbconvert_exporter": "python",
   "pygments_lexer": "ipython3",
   "version": "3.7.3"
  }
 },
 "nbformat": 4,
 "nbformat_minor": 2
}
