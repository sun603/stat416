{
 "cells": [
  {
   "cell_type": "code",
   "execution_count": 54,
   "metadata": {},
   "outputs": [],
   "source": [
    "def reading(filename):\n",
    "    dataset = []\n",
    "    tmpstr = None\n",
    "    with open(filename, 'r') as file:\n",
    "        for line in file:\n",
    "#             tmpstr = line\n",
    "            tmpstr = line.replace(\",,,\\n\",\"\",1)\n",
    "            tmpstr = tmpstr.split(',',1)\n",
    "            if len(tmpstr) < 2:\n",
    "                print(\"err in split\",line)\n",
    "                continue\n",
    "            elif tmpstr[0] == \"ham\" or tmpstr[0] == \"spam\":\n",
    "                dataset.append(tmpstr)\n",
    "            else:\n",
    "                print(\"err in classify\",line)\n",
    "    return dataset\n",
    "def training(dataset):\n",
    "    ham = {}\n",
    "    spam = {}\n",
    "    num_ham = 0\n",
    "    num_spam = 0\n",
    "    for data in dataset:\n",
    "        if data[0] == \"ham\":\n",
    "            for word in data[1].split(\" \"):\n",
    "                if word in ham:\n",
    "                    ham[word] += 1\n",
    "                else:\n",
    "                    ham[word] = 1\n",
    "        elif data[0] == \"spam\":\n",
    "            for word in data[1].split(\" \"):\n",
    "                if word in spam:\n",
    "                    spam[word] += 1\n",
    "                else:\n",
    "                    spam[word] = 1\n",
    "        else:\n",
    "            print(\"err in logic \",data)\n",
    "    allwords = set(ham.keys())\n",
    "    for word in spam.keys():\n",
    "        allwords.add(word)\n",
    "    model = {}\n",
    "    nspam = nham = 0\n",
    "    num_ham = sum(ham.values())\n",
    "    num_spam = sum(spam.values())\n",
    "    total_p_spam = num_spam/(num_ham+num_spam)\n",
    "    total_p_ham = 1 - total_p_spam\n",
    "    for word in allwords:\n",
    "        if word in spam:\n",
    "            xspam = spam[word]\n",
    "        else:\n",
    "            xspam = 0\n",
    "        if word in ham:\n",
    "            xham = ham[word]\n",
    "        else:\n",
    "            xham = 0\n",
    "        model[word] = (xspam/num_spam) * total_p_spam / ((xspam/num_spam) * total_p_spam + (xham/num_ham) * total_p_ham) \n",
    "    return (model,total_p_spam,total_p_ham)\n",
    "def perdict(modeld,string):\n",
    "    model,p_spam,p_ham = modeld\n",
    "    words = string.split(\" \")\n",
    "#     prspam = [None] * len(words)\n",
    "#     prhman = [None] * len(words)\n",
    "#     for index,word in enumerate(words):\n",
    "    pspam = p_spam\n",
    "    phman = p_ham\n",
    "    for word in words:\n",
    "        if word in model:\n",
    "            pspam *= model[word]\n",
    "            phman *= 1 - model[word]\n",
    "    if pspam > phman:\n",
    "        return \"spam\"\n",
    "    else:\n",
    "        return \"ham\"\n",
    "\n",
    "    "
   ]
  },
  {
   "cell_type": "code",
   "execution_count": 55,
   "metadata": {},
   "outputs": [],
   "source": [
    "traindata = reading('./train.csv')\n",
    "model = training(traindata)"
   ]
  },
  {
   "cell_type": "code",
   "execution_count": 56,
   "metadata": {},
   "outputs": [
    {
     "name": "stdout",
     "output_type": "stream",
     "text": [
      "0.95695067264574\n"
     ]
    }
   ],
   "source": [
    "testdata = reading('./test.csv')\n",
    "result = None\n",
    "correct = 0\n",
    "total = 0\n",
    "for data in testdata:\n",
    "    result = perdict(model,data[1])\n",
    "    if result == data[0]:\n",
    "        correct += 1\n",
    "    total += 1\n",
    "print(correct/total)"
   ]
  },
  {
   "cell_type": "code",
   "execution_count": 20,
   "metadata": {},
   "outputs": [
    {
     "data": {
      "text/plain": [
       "(['ham', 'Ding me on ya break fassyole! Blacko from londn'],\n",
       " ['spam',\n",
       "  'Call Germany for only 1 pence per minute! Call from a fixed line via access number 0844 861 85 85. No prepayment. Direct access! www.telediscount.co.uk'])"
      ]
     },
     "execution_count": 20,
     "metadata": {},
     "output_type": "execute_result"
    }
   ],
   "source": [
    "testdata[2],traindata[3]"
   ]
  }
 ],
 "metadata": {
  "kernelspec": {
   "display_name": "Python 3",
   "language": "python",
   "name": "python3"
  },
  "language_info": {
   "codemirror_mode": {
    "name": "ipython",
    "version": 3
   },
   "file_extension": ".py",
   "mimetype": "text/x-python",
   "name": "python",
   "nbconvert_exporter": "python",
   "pygments_lexer": "ipython3",
   "version": "3.7.3"
  }
 },
 "nbformat": 4,
 "nbformat_minor": 2
}
